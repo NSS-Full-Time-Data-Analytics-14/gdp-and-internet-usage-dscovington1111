{
 "cells": [
  {
   "cell_type": "code",
   "execution_count": null,
   "id": "8395cd96-970a-48eb-b887-527d5e798fe7",
   "metadata": {},
   "outputs": [],
   "source": [
    "import pandas as pd\n",
    "import numpy as np\n",
    "import matplotlib.pyplot as plt  \n",
    "import seaborn as sns"
   ]
  },
  {
   "cell_type": "code",
   "execution_count": null,
   "id": "b6c44b6c-d852-4642-8eb2-321648095f87",
   "metadata": {},
   "outputs": [],
   "source": [
    "#5) 7662 rows x 4 columns\n",
    "gdp_df = pd.read_csv('../data/gdp_percapita.csv')\n",
    "gdp_df\n"
   ]
  },
  {
   "cell_type": "code",
   "execution_count": null,
   "id": "a88acd2b-a03c-4704-9af1-e64b11875fc4",
   "metadata": {},
   "outputs": [],
   "source": [
    "#5) object, int64, float64\n",
    "gdp_df.info()\n"
   ]
  },
  {
   "cell_type": "code",
   "execution_count": null,
   "id": "6c2123cf-a0a3-4326-b0da-1d25c675457f",
   "metadata": {},
   "outputs": [],
   "source": [
    "#6\n",
    "gdp_df = gdp_df.drop(columns = ['Value Footnotes'])\n",
    "gdp_df.head(1)\n"
   ]
  },
  {
   "cell_type": "code",
   "execution_count": null,
   "id": "d7717d28-1553-43fc-bb53-1c0e7713f33c",
   "metadata": {},
   "outputs": [],
   "source": [
    "#6\n",
    "gdp_df = gdp_df.rename(columns = {'Country or Area':'Country', 'Value':'GDP_Per_Capita'})\n",
    "gdp_df.head(1)\n"
   ]
  },
  {
   "cell_type": "code",
   "execution_count": null,
   "id": "dd96786b-a8f0-4513-9611-17496b0c8cce",
   "metadata": {},
   "outputs": [],
   "source": [
    "#7\n",
    "gdp_df.Year.value_counts()"
   ]
  },
  {
   "cell_type": "code",
   "execution_count": null,
   "id": "454de138-1691-40d2-b4ad-72904509b40d",
   "metadata": {},
   "outputs": [],
   "source": [
    "#7\n",
    "country_counts = gdp_df.Country.value_counts()"
   ]
  },
  {
   "cell_type": "code",
   "execution_count": null,
   "id": "ab282a6b-375f-40df-a446-06a62552e611",
   "metadata": {},
   "outputs": [],
   "source": [
    "#7\n",
    "type(country_counts)"
   ]
  },
  {
   "cell_type": "code",
   "execution_count": null,
   "id": "204eaea4-13d1-4257-aed7-96a192829b4c",
   "metadata": {},
   "outputs": [],
   "source": [
    "country_counts = country_counts.to_frame()"
   ]
  },
  {
   "cell_type": "code",
   "execution_count": null,
   "id": "f3fe50db-e365-4e21-b316-3571cf782fc3",
   "metadata": {},
   "outputs": [],
   "source": [
    "country_counts.head(2)"
   ]
  },
  {
   "cell_type": "code",
   "execution_count": null,
   "id": "095109f8-81d3-4ee5-a98c-f32d43282394",
   "metadata": {},
   "outputs": [],
   "source": [
    "country_counts = country_counts.reset_index()\n",
    "country_counts"
   ]
  },
  {
   "cell_type": "code",
   "execution_count": null,
   "id": "e6ada1c1-05ee-4822-bd34-7fc54b8120c0",
   "metadata": {},
   "outputs": [],
   "source": [
    "country_counts = country_counts.reset_index(drop=True)\n",
    "country_counts.head()"
   ]
  },
  {
   "cell_type": "code",
   "execution_count": null,
   "id": "1174ecd7-66cc-4b45-8a8d-88be6f436bca",
   "metadata": {},
   "outputs": [],
   "source": [
    "country_counts.sort_values(by = 'count', ascending = False)"
   ]
  },
  {
   "cell_type": "code",
   "execution_count": null,
   "id": "5ac26161-a769-4d7c-b198-5086e92bcdc1",
   "metadata": {},
   "outputs": [],
   "source": [
    "country_counts.count"
   ]
  },
  {
   "cell_type": "code",
   "execution_count": null,
   "id": "e901131e-11a7-4916-95b6-1d90401d3994",
   "metadata": {},
   "outputs": [],
   "source": []
  },
  {
   "cell_type": "code",
   "execution_count": null,
   "id": "f0b0b73f-1a15-4d17-8a37-f51a801fbb96",
   "metadata": {},
   "outputs": [],
   "source": []
  },
  {
   "cell_type": "code",
   "execution_count": null,
   "id": "95b40ff9-eeee-492b-90bf-e36f0d980b3f",
   "metadata": {},
   "outputs": [],
   "source": []
  },
  {
   "cell_type": "code",
   "execution_count": null,
   "id": "b2c21ce6-4e0c-4fb0-955a-57ec27328c48",
   "metadata": {},
   "outputs": [],
   "source": []
  },
  {
   "cell_type": "code",
   "execution_count": null,
   "id": "e61cdcaa-91c4-4282-9996-d0e5fcdca156",
   "metadata": {},
   "outputs": [],
   "source": []
  },
  {
   "cell_type": "code",
   "execution_count": null,
   "id": "e5fffa63-fbb8-4d64-a8be-c4d94381b69e",
   "metadata": {},
   "outputs": [],
   "source": []
  },
  {
   "cell_type": "code",
   "execution_count": null,
   "id": "37a67f1b-31e7-4216-b72a-c1c121fdbbbe",
   "metadata": {},
   "outputs": [],
   "source": [
    "schools.loc[schools.econ_disadv > 200"
   ]
  },
  {
   "cell_type": "code",
   "execution_count": null,
   "id": "a8e56194-0d70-4bb6-99e8-afff2ce17683",
   "metadata": {},
   "outputs": [],
   "source": []
  },
  {
   "cell_type": "code",
   "execution_count": null,
   "id": "75f11d41-9e92-4920-b47c-818135a79173",
   "metadata": {},
   "outputs": [],
   "source": []
  },
  {
   "cell_type": "code",
   "execution_count": null,
   "id": "77693f3f-b031-46a9-b03a-7b96d91fce02",
   "metadata": {},
   "outputs": [],
   "source": []
  },
  {
   "cell_type": "code",
   "execution_count": null,
   "id": "61171be2-f6fb-4ef3-a799-f53786c8679c",
   "metadata": {},
   "outputs": [],
   "source": []
  },
  {
   "cell_type": "code",
   "execution_count": null,
   "id": "526c102f-3814-4229-b9c9-f987d9170188",
   "metadata": {},
   "outputs": [],
   "source": []
  },
  {
   "cell_type": "code",
   "execution_count": null,
   "id": "e0b520e6-7a67-4f45-bda2-7dd409b97c29",
   "metadata": {},
   "outputs": [],
   "source": []
  },
  {
   "cell_type": "code",
   "execution_count": null,
   "id": "56b43987-e2ba-4784-96e2-f608644b28cd",
   "metadata": {},
   "outputs": [],
   "source": []
  },
  {
   "cell_type": "code",
   "execution_count": null,
   "id": "077fa9ce-effb-46be-8637-df46c15e80b2",
   "metadata": {},
   "outputs": [],
   "source": []
  },
  {
   "cell_type": "code",
   "execution_count": null,
   "id": "7134279b-09a0-4544-8911-fcbb61887a2c",
   "metadata": {},
   "outputs": [],
   "source": []
  },
  {
   "cell_type": "code",
   "execution_count": null,
   "id": "03bcab7a-a279-4adc-941b-ee2597e4c537",
   "metadata": {},
   "outputs": [],
   "source": []
  }
 ],
 "metadata": {
  "kernelspec": {
   "display_name": "Python 3 (ipykernel)",
   "language": "python",
   "name": "python3"
  },
  "language_info": {
   "codemirror_mode": {
    "name": "ipython",
    "version": 3
   },
   "file_extension": ".py",
   "mimetype": "text/x-python",
   "name": "python",
   "nbconvert_exporter": "python",
   "pygments_lexer": "ipython3",
   "version": "3.12.4"
  }
 },
 "nbformat": 4,
 "nbformat_minor": 5
}
